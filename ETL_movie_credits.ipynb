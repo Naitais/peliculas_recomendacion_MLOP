{
 "cells": [
  {
   "cell_type": "code",
   "execution_count": 1,
   "metadata": {},
   "outputs": [],
   "source": [
    "import pandas as pd\n",
    "import numpy as np\n",
    "import json\n",
    "\n",
    "from funciones_varias import desanidarColumna, desanidarVariasColumnas, creaDfFuncionesFastAPI\n",
    "\n",
    "#cargo los datasets\n",
    "#si agrego  dtype='unicode' evito algunos errores sobre tipos de datos\n",
    "dfMovies = pd.read_csv(r'datasets_crudos\\movies_dataset.csv', dtype='unicode')\n",
    "dfCredits= pd.read_csv(r'datasets_crudos\\credits.csv', dtype='unicode')"
   ]
  },
  {
   "cell_type": "code",
   "execution_count": 2,
   "metadata": {},
   "outputs": [],
   "source": [
    "#TRANSFORMACIONES VARIAS ---> NO OLVIDAR CORRER LO QUE ESTA COMENTADO\n",
    "\n",
    "#lleno NaNs con 0s en las columnas revenue y budget\n",
    "#elimino rows que contienen un NaN en la columna release_date\n",
    "#elimino columnas que no se utilizaran\n",
    "try:\n",
    "    dfMovies['revenue'] = dfMovies['revenue'].fillna(0)\n",
    "    dfMovies['budget'] = dfMovies['budget'].fillna(0)\n",
    "    dfMovies = dfMovies.dropna(subset='release_date')\n",
    "    dfMovies= dfMovies.drop(columns=[\"video\",\"adult\",\"imdb_id\" ,\"original_title\", \"poster_path\", \"homepage\"])\n",
    "except:\n",
    "    print(\"estas transformaciones ya se ejecutaron\")\n"
   ]
  },
  {
   "cell_type": "code",
   "execution_count": 3,
   "metadata": {},
   "outputs": [],
   "source": [
    "#desanido belongs to collection\n",
    "franquicia = (desanidarColumna(dfMovies['belongs_to_collection']))\n",
    "\n",
    "#inserto nueva columna y elimino la vieja\n",
    "dfMovies= dfMovies.drop(columns=[\"belongs_to_collection\"])\n",
    "dfMovies.insert(1, \"franquicia\", franquicia[\"name\"])"
   ]
  },
  {
   "cell_type": "code",
   "execution_count": 4,
   "metadata": {},
   "outputs": [],
   "source": [
    "#la columna generos hay que desanidarle cada columna despues de aplciarle la funcion\n",
    "\n",
    "dfGeneros = (desanidarColumna(dfMovies['genres'])) #le aplico la primera funcion\n",
    "dfGeneros=desanidarVariasColumnas(dfGeneros) #desanido cada columna con la segunda funcion      \n",
    "dfGeneros=dfGeneros.iloc[:45378] #esto es cualquier cosa pero bueno, funciona xd\n",
    "                                 #uso iloc para obtener solo hasta el row 45378 porque sino tengo errores\n",
    "                                 \n",
    "#inserto nueva columna y elimino la vieja\n",
    "dfMovies.insert(1, \"movie_genre\", dfGeneros[\"name\"])\n",
    "dfMovies= dfMovies.drop(columns=[\"genres\"])"
   ]
  },
  {
   "cell_type": "code",
   "execution_count": 5,
   "metadata": {},
   "outputs": [],
   "source": [
    "#desanido tabla production_companies\n",
    "dfCompanies=desanidarColumna(dfMovies['production_companies'])\n",
    "dfCompanies=desanidarVariasColumnas(dfCompanies)\n",
    "dfCompanies= dfCompanies.iloc[:45379] #REVISAR COMO HACER MEJOR ESTA PARTE\n",
    "\n",
    "#inserto nueva columna y elimino la vieja\n",
    "dfMovies.insert(7, \"production_company\", dfCompanies[\"name\"])\n",
    "dfMovies= dfMovies.drop(columns=[\"production_companies\"])"
   ]
  },
  {
   "cell_type": "code",
   "execution_count": 6,
   "metadata": {},
   "outputs": [],
   "source": [
    "#desanido production_countries\n",
    "dfProdCountries=desanidarVariasColumnas(desanidarColumna(dfMovies[\"production_countries\"]))\n",
    "dfProdCountries = dfProdCountries.iloc[:45379] #REVISAR COMO HACER MEJOR ESTA PARTE\n",
    "\n",
    "#inserto nueva columna y elimino la vieja\n",
    "dfMovies.insert(8, \"production_country\", dfProdCountries[\"name\"])\n",
    "dfMovies= dfMovies.drop(columns=[\"production_countries\"])"
   ]
  },
  {
   "cell_type": "code",
   "execution_count": 7,
   "metadata": {},
   "outputs": [],
   "source": [
    "#desanido spoken_languages\n",
    "dfSpokenLan=desanidarVariasColumnas(desanidarColumna(dfMovies[\"spoken_languages\"]))\n",
    "dfSpokenLan = dfSpokenLan.iloc[:45379] #REVISAR COMO HACER MEJOR ESTA PARTE\n",
    "\n",
    "#inserto nueva columna y elimino la vieja\n",
    "dfMovies.insert(12, \"language\", dfSpokenLan[\"name\"]) #puedo elegir entre poner la abreviacion o la palabra entera\n",
    "dfMovies= dfMovies.drop(columns=[\"spoken_languages\"])"
   ]
  },
  {
   "cell_type": "code",
   "execution_count": 8,
   "metadata": {},
   "outputs": [],
   "source": [
    "#tablas que contienen fechas:\n",
    "    #release_date\n",
    "release_year = dfMovies[\"release_date\"]\n",
    "#cambio valores de fechas invalidas a fechas default\n",
    "release_year[19730] = \"1900-01-01\"\n",
    "release_year[29503] = \"1900-01-01\"\n",
    "release_year[35587] = \"1900-01-01\"\n",
    "\n",
    "#obtengo solo año de cada string de fecha y lo meto en release_year\n",
    "release_year = pd.to_datetime(release_year).dt.year\n",
    "\n",
    "#inserto nueva columan release_year\n",
    "dfMovies.insert(10, \"release_year\", release_year)\n",
    "\n",
    "#se supone que transforme la columna en date type pero es un int REVISAR"
   ]
  },
  {
   "cell_type": "code",
   "execution_count": 9,
   "metadata": {},
   "outputs": [
    {
     "name": "stdout",
     "output_type": "stream",
     "text": [
      "0\n"
     ]
    },
    {
     "name": "stderr",
     "output_type": "stream",
     "text": [
      "C:\\Users\\Administrator\\AppData\\Local\\Temp\\ipykernel_7056\\395374050.py:4: SettingWithCopyWarning: \n",
      "A value is trying to be set on a copy of a slice from a DataFrame\n",
      "\n",
      "See the caveats in the documentation: https://pandas.pydata.org/pandas-docs/stable/user_guide/indexing.html#returning-a-view-versus-a-copy\n",
      "  budget[19730] = 0\n",
      "C:\\Users\\Administrator\\AppData\\Local\\Temp\\ipykernel_7056\\395374050.py:5: SettingWithCopyWarning: \n",
      "A value is trying to be set on a copy of a slice from a DataFrame\n",
      "\n",
      "See the caveats in the documentation: https://pandas.pydata.org/pandas-docs/stable/user_guide/indexing.html#returning-a-view-versus-a-copy\n",
      "  budget[29503] = 0\n",
      "C:\\Users\\Administrator\\AppData\\Local\\Temp\\ipykernel_7056\\395374050.py:6: SettingWithCopyWarning: \n",
      "A value is trying to be set on a copy of a slice from a DataFrame\n",
      "\n",
      "See the caveats in the documentation: https://pandas.pydata.org/pandas-docs/stable/user_guide/indexing.html#returning-a-view-versus-a-copy\n",
      "  budget[35587] = 0\n"
     ]
    }
   ],
   "source": [
    "#comienzo a armar columna return\n",
    "\n",
    "budget=dfMovies[\"budget\"] #debo reemplazar esos valores porque sino me da error\n",
    "budget[19730] = 0\n",
    "budget[29503] = 0\n",
    "budget[35587] = 0\n",
    "\n",
    "#paso a float\n",
    "dfMovies[\"revenue\"]=pd.DataFrame(dfMovies[\"revenue\"]).astype(float)\n",
    "dfMovies[\"budget\"]=pd.DataFrame(dfMovies[\"budget\"]).astype(float)\n",
    "\n",
    "#creo la columna return y relleno con 0 cuando el resultado es None\n",
    "dfMovies[\"return\"]=round(dfMovies[\"revenue\"]/dfMovies[\"budget\"], 2)\n",
    "dfMovies['return'] = dfMovies['return'].fillna(0)\n",
    "\n",
    "#reemplazo valores infinitos\n",
    "dfMovies.replace([np.inf, -np.inf], 0, inplace=True)\n",
    "\n",
    "#para revisar si hay valores infinitos\n",
    "counter=0\n",
    "for i in dfMovies[\"return\"]:\n",
    "    if i == float(\"inf\"):\n",
    "        print(i)\n",
    "        counter+=1\n",
    "print(counter)\n"
   ]
  },
  {
   "cell_type": "code",
   "execution_count": 10,
   "metadata": {},
   "outputs": [],
   "source": [
    "#desanido la columna crew y la dejo en un df separado (tarda como 13 minutos en armarse)\n",
    "\n",
    "dfCrew = pd.DataFrame()\n",
    "for i in range(len(dfCredits)):\n",
    "    stringsCrew = dfCredits.crew[i]\n",
    "    dictionaryCrew = eval(stringsCrew) #esto es para pasarlo de string a lista y poder armar el df\n",
    "    dictionaryCrew = pd.DataFrame(dictionaryCrew)\n",
    "    dictionaryCrew[\"id\"] = dfCredits.id[i]  #reemplazo el id del df con el de dfCredits para poder unirlo a su pelicula\n",
    "    dfCrew = pd.concat([dfCrew, dictionaryCrew])\n",
    "    #dfCrew = dfCrew.reset_index(drop=True) #si descomento el reindex tarda mas del doble\n",
    "\n",
    "dfCrew.to_csv(r\"C:\\Users\\\\Administrator\\\\Desktop\\\\dfCrew.csv\")"
   ]
  },
  {
   "cell_type": "code",
   "execution_count": 11,
   "metadata": {},
   "outputs": [],
   "source": [
    "#desanido la columna cast y la dejo en un df separado (tarda como 17 minutos en armarse)\n",
    "dfCast = pd.DataFrame()\n",
    "for i in range(len(dfCredits)):\n",
    "    stringsCast = dfCredits.cast[i]\n",
    "    dictionaryCast = eval(stringsCast) #esto es para pasarlo de string a lista y poder armar el df\n",
    "    dictionaryCast = pd.DataFrame(dictionaryCast)\n",
    "    dictionaryCast[\"id\"] = dfCredits.id[i] #reemplazo el id del df con el de dfCredits para poder unirlo a su pelicula\n",
    "    dfCast = pd.concat([dfCast, dictionaryCast])\n",
    "    #dfCast = dfCast.reset_index(drop=True) #si descomento el reindex tarda mas del doble\n",
    "\n",
    "dfCast.to_csv(r\"C:\\Users\\\\Administrator\\\\Desktop\\\\dfCast.csv\")"
   ]
  },
  {
   "cell_type": "code",
   "execution_count": 12,
   "metadata": {},
   "outputs": [
    {
     "name": "stderr",
     "output_type": "stream",
     "text": [
      "C:\\Users\\Administrator\\AppData\\Local\\Temp\\ipykernel_7056\\3565241362.py:15: SettingWithCopyWarning: \n",
      "A value is trying to be set on a copy of a slice from a DataFrame\n",
      "\n",
      "See the caveats in the documentation: https://pandas.pydata.org/pandas-docs/stable/user_guide/indexing.html#returning-a-view-versus-a-copy\n",
      "  id[19730] = 1111111\n",
      "C:\\Users\\Administrator\\AppData\\Local\\Temp\\ipykernel_7056\\3565241362.py:16: SettingWithCopyWarning: \n",
      "A value is trying to be set on a copy of a slice from a DataFrame\n",
      "\n",
      "See the caveats in the documentation: https://pandas.pydata.org/pandas-docs/stable/user_guide/indexing.html#returning-a-view-versus-a-copy\n",
      "  id[29503] = 2222222\n",
      "C:\\Users\\Administrator\\AppData\\Local\\Temp\\ipykernel_7056\\3565241362.py:17: SettingWithCopyWarning: \n",
      "A value is trying to be set on a copy of a slice from a DataFrame\n",
      "\n",
      "See the caveats in the documentation: https://pandas.pydata.org/pandas-docs/stable/user_guide/indexing.html#returning-a-view-versus-a-copy\n",
      "  id[35587] = 3333333\n"
     ]
    }
   ],
   "source": [
    "#cambio de posicion la columna \"title\" y le cambio el nombre a \"movie_title\"\n",
    "titles=pd.DataFrame(dfMovies[\"title\"])\n",
    "dfMovies.insert(0,\"movie_title\" ,titles)\n",
    "dfMovies=dfMovies.drop(columns=[\"title\"])\n",
    "\n",
    "#cambio nans en todas las columnas por \"Unkown Value\"\n",
    "\n",
    "#columns = [a for a in dfMovies.columns]\n",
    "#for i in range(len(columns)):\n",
    "#    dfMovies[columns[i]]=dfMovies[columns[i]].fillna(\"Unkown Value\")\n",
    "\n",
    "#valores raros en id\n",
    "id=dfMovies[\"id\"]\n",
    "\n",
    "id[19730] = 1111111\n",
    "id[29503] = 2222222\n",
    "id[35587] = 3333333\n"
   ]
  },
  {
   "cell_type": "code",
   "execution_count": 13,
   "metadata": {},
   "outputs": [],
   "source": [
    "#para exportar csv e ir probando cargarlo a la API\n",
    "#dfMovies.to_csv(r\"C:\\Users\\\\Administrator\\\\Desktop\\\\dfMovies.csv\")"
   ]
  },
  {
   "cell_type": "code",
   "execution_count": 14,
   "metadata": {},
   "outputs": [],
   "source": [
    "#dfMovies[\"release_date\"]\n",
    "                                                      \n",
    "#dfMovies[\"release_date\"] = pd.to_datetime(dfMovies[\"release_date\"], format=\"%Y-%m-%d\")\n",
    "#month = dfMovies[\"release_date\"].dt.month_name()\n",
    "#dfMovies[\"\"]\n",
    "\n",
    "\n",
    "#\"710\": \"710\", REVISAR ESTE ID, INDEX NO SE. A PARTIR DE ACA YA NO COINCIDEN EL ID O ALGO ASI."
   ]
  },
  {
   "cell_type": "code",
   "execution_count": 15,
   "metadata": {},
   "outputs": [],
   "source": [
    "#PRIMERA FUNCION DATAFRAME dfPeliculasIdiomas\n",
    "\n",
    "#dataset funcion peliculas idioma\n",
    "#dfMoviesDuration=creaDfFuncionesFastAPI([\"movie_title\", \"language\", \"original_language\"], dfMovies)\n",
    "\n",
    "#guardo dataset para la primera funcion\n",
    "#dfPeliculasIdiomas.to_csv(r\"C:\\Users\\\\Administrator\\\\Desktop\\\\dfPeliculasIdiomas.csv\")"
   ]
  },
  {
   "cell_type": "code",
   "execution_count": 16,
   "metadata": {},
   "outputs": [],
   "source": [
    "#SEGUNDA FUNCION DATAFRAME dfMoviesDuration\n",
    "\n",
    "#nuevo df con la info que necesito para la segunda funcion\n",
    "#dfMoviesDuration=creaDfFuncionesFastAPI([\"movie_title\", \"release_year\", \"runtime\"], dfMovies)\n",
    "\n",
    "#guardo dataset para la segunda funcion\n",
    "#dfMoviesDuration.to_csv(r\"C:\\Users\\\\Administrator\\\\Desktop\\\\dfMoviesDuration.csv\")"
   ]
  },
  {
   "cell_type": "code",
   "execution_count": 17,
   "metadata": {},
   "outputs": [],
   "source": [
    "#TERCERA FUNCION DATAFRAME dfFranquicia\n",
    "\n",
    "#POR EL MOMENTO, GANANCIA TOTAL VA A SER GIUAL A REVENUE\n",
    "#dfMovies[\"ganancia_total\"]=round(dfMovies[\"revenue\"]-dfMovies[\"budget\"], 2)\n",
    "\n",
    "#pd.options.display.float_format = '{:.2f}'.format #porque sino me tira numeros con notacion cientifica\n",
    "\n",
    "#solo obtengo 5381 registros ya que hay muchos campos nulos tanto en budget como en revenue\n",
    "#dfMovies.loc[(dfMovies[\"revenue\"] > 0) & (dfMovies[\"budget\"] > 0) , [\"movie_title\",\"franquicia\",\"budget\",\"revenue\", \"ganancia_total\"]]\n",
    "\n",
    "#la funcion toma como parametro FRANQUICIA\n",
    "#necesito CANTIDAD de peliculas de esa franquicia\n",
    "#GANACIA total (revenue)\n",
    "#PROMEDIO dela ganancia total\n",
    "\n",
    "#filtro revenue mayor a 0 y me quedo con columnas que necesito\n",
    "#dfFiltrado = dfMovies.loc[(dfMovies[\"revenue\"] > 0), [\"franquicia\",\"movie_title\",\"revenue\"]]\n",
    "\n",
    "#hago group by por franquicia y agrego cada una de las maneras para agrupar las demas columnas\n",
    "#dfFranquicia = dfFiltrado.groupby(\"franquicia\").agg(\n",
    "#    movie_count=(\"movie_title\", \"count\"),\n",
    "#    ganancia_total=(\"revenue\", \"sum\"),\n",
    "#    ganancia_promedio=(\"revenue\", \"mean\")).reset_index()\n",
    "\n",
    "#guardo dataset para la tercera funcion\n",
    "#dfFranquicia.to_csv(r\"C:\\Users\\\\Administrator\\\\Desktop\\\\dfFranquicia.csv\")\n",
    "\n",
    "\n"
   ]
  },
  {
   "cell_type": "code",
   "execution_count": 18,
   "metadata": {},
   "outputs": [],
   "source": [
    "#CUARTA FUNCION DATAFRAME dfPaises\n",
    "\n",
    "#def peliculas_pais( Pais: str ): Se ingresa un país (como están escritos en el dataset, no hay que traducirlos),\n",
    "# retornando la cantidad de peliculas producidas en el mismo.\n",
    "#    Ejemplo de retorno: Se produjeron X películas en el país X\n",
    "\n",
    "#creo df para la cuarta funcion\n",
    "#dfPaises = creaDfFuncionesFastAPI([\"production_country\", \"movie_title\"])\n",
    "\n",
    "#agrupo por pais y cuento las peliculas\n",
    "#dfPaises = dfPaises.groupby(\"production_country\").agg(\n",
    "#    movie_count=(\"movie_title\", \"count\")).reset_index()\n",
    "\n",
    "#exporto df para cuarta funcion\n",
    "#dfPaises.to_csv(r\"C:\\Users\\\\Administrator\\\\Desktop\\\\dfPaises.csv\")\n"
   ]
  },
  {
   "cell_type": "code",
   "execution_count": 19,
   "metadata": {},
   "outputs": [],
   "source": [
    "#QUINTA FUNCION DATAFRAME dfProductora\n",
    "\n",
    "#def productoras_exitosas( Productora: str ): Se ingresa la productora, entregandote el revunue total y la\n",
    "# cantidad de peliculas que realizo.\n",
    "#Ejemplo de retorno: La productora X ha tenido un revenue de x\n",
    "\n",
    "#dfProductora = creaDfFuncionesFastAPI([\"production_company\", \"movie_title\",\"revenue\"], dfMovies)\n",
    "\n",
    "#dfProductora = dfMovies.loc[(dfMovies[\"revenue\"] > 0), [\"production_company\",\"movie_title\",\"revenue\"]]\n",
    "\n",
    "#dfProductora = dfProductora.groupby(\"production_company\").agg(\n",
    "#    movie_count =(\"movie_title\", \"count\"),\n",
    "#    ganancia_total = (\"revenue\", \"sum\")\n",
    "#).reset_index()\n",
    "\n",
    "#exporto df para quinta funcion\n",
    "#dfProductora.to_csv(r\"C:\\Users\\\\Administrator\\\\Desktop\\\\dfProductora.csv\")"
   ]
  },
  {
   "cell_type": "code",
   "execution_count": 20,
   "metadata": {},
   "outputs": [],
   "source": [
    "#armo dfs que voy a usar para la sexta funcion\n",
    "\n",
    "#dfMovieReturn = creaDfFuncionesFastAPI([\"id\", \"return\"], dfMovies)\n",
    "\n",
    "#dfMovieInfo = creaDfFuncionesFastAPI([\"id\", \"movie_title\",\"release_date\", \"budget\",\"revenue\",\"return\"], dfMovies)\n",
    "\n",
    "#dfDirectores = dfCrew.loc[(dfCrew[\"job\"] == \"Director\"), [\"id\",\"job\",\"name\"]]"
   ]
  },
  {
   "cell_type": "code",
   "execution_count": 21,
   "metadata": {},
   "outputs": [],
   "source": [
    "#SEXTA FUNCION DATAFRAME 1 dfDirectoresExito\n",
    "\n",
    "#filtro para no traer los returns en 0\n",
    "#dfMovieReturn = dfMovieReturn.loc[dfMovieReturn[\"return\"]>0]\n",
    "\n",
    "#para revisar cuantos directores hay por pelicula\n",
    "#dfDirectoresPorPelicula = dfDirectores.groupby(\"id\").agg(\n",
    "#    job_count=(\"job\", \"count\"),\n",
    "#    name_count=(\"name\", \"count\")\n",
    "#).reset_index()\n",
    "#dfDirectoresPorPelicula[dfDirectoresPorPelicula[\"job_count\"]>1]\n",
    "\n",
    "#hago join para poder calcular el return de cada director\n",
    "#dfDirectoresExito = dfDirectores.merge(dfMovieReturn, on=\"id\",how=\"left\")\n",
    "\n",
    "#dropeo columnas que no me sirven\n",
    "#dfDirectoresExito=dfDirectoresExito.drop(columns=[\"job\", \"id\"])\n",
    "\n",
    "#hago group by director name\n",
    "#dfDirectoresExito = dfDirectoresExito.groupby(\"name\").agg(\n",
    "#    director_return = (\"return\", \"mean\")\n",
    "#)\n",
    "\n",
    "#resultado sin tener en cuenta cuando no hay return diponible para el director\n",
    "#dfDirectoresExito = dfDirectoresExito.loc[dfDirectoresExito[\"director_return\"]>0]\n",
    "\n",
    "#exporto uno de los dfs que voy a usar para la sexta funcion\n",
    "#dfDirectoresExito.to_csv(r\"C:\\Users\\\\Administrator\\\\Desktop\\\\dfDirectoresExito.csv\")"
   ]
  },
  {
   "cell_type": "code",
   "execution_count": 22,
   "metadata": {},
   "outputs": [],
   "source": [
    "#SEXTA FUNCION DATAFRAME 2 dfDirectoresInfoPeliculas\n",
    "\n",
    "#filtro para no traer valores en 0\n",
    "#dfMovieInfo = dfMovieInfo.loc[dfMovieInfo[\"return\"]>0]\n",
    "#hago join para poder calcular el return de cada director\n",
    "#dfDirectoresInfoPeliculas = dfMovieInfo.merge(dfDirectores, on=\"id\",how=\"left\")\n",
    "\n",
    "#hago reindex\n",
    "#dfDirectoresInfoPeliculas = dfDirectoresInfoPeliculas.reindex(columns=[\"id\",\"name\", \"job\",\"movie_title\", \"release_date\",\n",
    "#                                                                \"budget\", \"revenue\", \"return\"])\n",
    "#dropeo columnas que no me sirven\n",
    "#dfDirectoresInfoPeliculas=dfDirectoresInfoPeliculas.drop(columns=[\"job\", \"id\"])                                                                 \n",
    "\n",
    "#exporto el otro de los dfs que voy a usar para la sexta funcion\n",
    "#dfDirectoresInfoPeliculas.to_csv(r\"C:\\Users\\\\Administrator\\\\Desktop\\\\dfDirectoresInfoPeliculas.csv\")        "
   ]
  }
 ],
 "metadata": {
  "kernelspec": {
   "display_name": "Python 3",
   "language": "python",
   "name": "python3"
  },
  "language_info": {
   "codemirror_mode": {
    "name": "ipython",
    "version": 3
   },
   "file_extension": ".py",
   "mimetype": "text/x-python",
   "name": "python",
   "nbconvert_exporter": "python",
   "pygments_lexer": "ipython3",
   "version": "3.11.3"
  },
  "orig_nbformat": 4
 },
 "nbformat": 4,
 "nbformat_minor": 2
}
