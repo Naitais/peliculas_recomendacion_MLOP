{
 "cells": [
  {
   "cell_type": "code",
   "execution_count": 32,
   "metadata": {},
   "outputs": [],
   "source": [
    "import pandas as pd\n",
    "import numpy as np\n",
    "import json\n",
    "\n",
    "\n",
    "#cargo los datasets\n",
    "#si agrego  dtype='unicode' evito algunos errores sobre tipos de datos\n",
    "dfMovies = pd.read_csv(r'datasets\\movies_dataset.csv', dtype='unicode')\n",
    "dfCredits= pd.read_csv(r'datasets\\credits.csv', dtype='unicode')\n",
    "\n",
    "pd.set_option(\"display.max_rows\", 2000, \"display.max_columns\", None)"
   ]
  },
  {
   "cell_type": "code",
   "execution_count": 33,
   "metadata": {},
   "outputs": [],
   "source": [
    "#TRANSFORMACIONES VARIAS ---> NO OLVIDAR CORRER LO QUE ESTA COMENTADO\n",
    "\n",
    "#lleno NaNs con 0s en las columnas revenue y budget\n",
    "#elimino rows que contienen un NaN en la columna release_date\n",
    "#elimino columnas que no se utilizaran\n",
    "try:\n",
    "    dfMovies['revenue'] = dfMovies['revenue'].fillna(0)\n",
    "    dfMovies['budget'] = dfMovies['budget'].fillna(0)\n",
    "    dfMovies = dfMovies.dropna(subset='release_date')\n",
    "    dfMovies= dfMovies.drop(columns=[\"video\",\"adult\",\"imdb_id\" ,\"original_title\", \"poster_path\", \"homepage\"])\n",
    "except:\n",
    "    print(\"estas transformaciones ya se ejecutaron\")\n"
   ]
  },
  {
   "cell_type": "code",
   "execution_count": 34,
   "metadata": {},
   "outputs": [],
   "source": [
    "#FUNCIONES\n",
    "\n",
    "#desanida columna y devuelve un dataframe\n",
    "def desanidarColumna(columna):\n",
    "    lista = []\n",
    "    listaDict=[]\n",
    "    counter=0\n",
    "    for k, v in columna.items():\n",
    "        if isinstance(v, str):\n",
    "            lista.append(v)\n",
    "        else:\n",
    "            lista.append(None)\n",
    "    for i in lista:   \n",
    "                try:\n",
    "                    i=json.loads(lista[counter].replace(\"'\", '\"'))\n",
    "                    listaDict.append(i)\n",
    "                    counter+=1\n",
    "                except:\n",
    "                    listaDict.append(None)\n",
    "                    counter+=1\n",
    "    listaDict=pd.json_normalize(listaDict)\n",
    "    return listaDict\n",
    "\n",
    "def desanidarVariasColumnas(columna):\n",
    "    lista=[]\n",
    "    for col in columna:            \n",
    "        #normalizo cada columna\n",
    "        colAnidada=pd.json_normalize(columna[col])\n",
    "        lista.append(colAnidada) #meto cada columna en una lista\n",
    "\n",
    "        #armo un df concatenando cada columna de la lista\n",
    "        nuevoDF=pd.concat(lista)\n",
    "    return nuevoDF\n"
   ]
  },
  {
   "cell_type": "code",
   "execution_count": 35,
   "metadata": {},
   "outputs": [],
   "source": [
    "#desanido belongs to collection\n",
    "\n",
    "Títulos = (desanidarColumna(dfMovies['belongs_to_collection']))\n",
    "#dfMovies[\"Títulos\"] = Títulos[\"name\"] es otra forma de agregar la columna\n",
    "#agrego la columna al inicio\n",
    "\n",
    "#inserto nueva columna y elimino la vieja\n",
    "dfMovies.insert(0, \"movie_title\", Títulos[\"name\"])\n",
    "dfMovies= dfMovies.drop(columns=[\"belongs_to_collection\"])"
   ]
  },
  {
   "cell_type": "code",
   "execution_count": 36,
   "metadata": {},
   "outputs": [],
   "source": [
    "#la columna generos hay que desanidarle cada columna despues de aplciarle la funcion\n",
    "\n",
    "dfGeneros = (desanidarColumna(dfMovies['genres'])) #le aplico la primera funcion\n",
    "dfGeneros=desanidarVariasColumnas(dfGeneros) #desanido cada columna con la segunda funcion      \n",
    "dfGeneros=dfGeneros.iloc[:45378] #esto es cualquier cosa pero bueno, funciona xd\n",
    "                                 #uso iloc para obtener solo hasta el row 45378 porque sino tengo errores\n",
    "                                 \n",
    "#inserto nueva columna y elimino la vieja\n",
    "dfMovies.insert(1, \"movie_genre\", dfGeneros[\"name\"])\n",
    "dfMovies= dfMovies.drop(columns=[\"genres\"])"
   ]
  },
  {
   "cell_type": "code",
   "execution_count": 37,
   "metadata": {},
   "outputs": [],
   "source": [
    "#desanido tabla production_companies\n",
    "dfCompanies=desanidarColumna(dfMovies['production_companies'])\n",
    "dfCompanies=desanidarVariasColumnas(dfCompanies)\n",
    "dfCompanies= dfCompanies.iloc[:45379]\n",
    "\n",
    "#inserto nueva columna y elimino la vieja\n",
    "dfMovies.insert(7, \"production_company\", dfCompanies[\"name\"])\n",
    "dfMovies= dfMovies.drop(columns=[\"production_companies\"])"
   ]
  },
  {
   "cell_type": "code",
   "execution_count": 38,
   "metadata": {},
   "outputs": [],
   "source": [
    "#desanido production_countries\n",
    "dfProdCountries=desanidarVariasColumnas(desanidarColumna(dfMovies[\"production_countries\"]))\n",
    "dfProdCountries = dfProdCountries.iloc[:45379]\n",
    "\n",
    "#inserto nueva columna y elimino la vieja\n",
    "dfMovies.insert(8, \"production_country\", dfProdCountries[\"name\"])\n",
    "dfMovies= dfMovies.drop(columns=[\"production_countries\"])"
   ]
  },
  {
   "cell_type": "code",
   "execution_count": 39,
   "metadata": {},
   "outputs": [],
   "source": [
    "#desanido spoken_languages\n",
    "dfSpokenLan=desanidarVariasColumnas(desanidarColumna(dfMovies[\"spoken_languages\"]))\n",
    "dfSpokenLan = dfSpokenLan.iloc[:45379]\n",
    "\n",
    "#inserto nueva columna y elimino la vieja\n",
    "dfMovies.insert(12, \"language\", dfSpokenLan[\"name\"]) #puedo elegir entre poner la abreviacion o la palabra entera\n",
    "dfMovies= dfMovies.drop(columns=[\"spoken_languages\"])"
   ]
  },
  {
   "cell_type": "code",
   "execution_count": 40,
   "metadata": {},
   "outputs": [],
   "source": [
    "#tablas que contienen fechas:\n",
    "    #release_date\n",
    "release_year = dfMovies[\"release_date\"]\n",
    "#cambio valores de fechas invalidas a fechas default\n",
    "release_year[19730] = \"1900-01-01\"\n",
    "release_year[29503] = \"1900-01-01\"\n",
    "release_year[35587] = \"1900-01-01\"\n",
    "\n",
    "#obtengo solo año de cada string de fecha y lo meto en release_year\n",
    "release_year = pd.to_datetime(release_year).dt.year\n",
    "\n",
    "#inserto nueva columan release_year\n",
    "dfMovies.insert(10, \"release_year\", release_year)\n",
    "\n",
    "#se supone que transforme la columna en date type pero es un int REVISAR"
   ]
  },
  {
   "cell_type": "code",
   "execution_count": 41,
   "metadata": {},
   "outputs": [
    {
     "name": "stdout",
     "output_type": "stream",
     "text": [
      "0\n"
     ]
    },
    {
     "name": "stderr",
     "output_type": "stream",
     "text": [
      "C:\\Users\\Administrator\\AppData\\Local\\Temp\\ipykernel_6432\\395374050.py:4: SettingWithCopyWarning: \n",
      "A value is trying to be set on a copy of a slice from a DataFrame\n",
      "\n",
      "See the caveats in the documentation: https://pandas.pydata.org/pandas-docs/stable/user_guide/indexing.html#returning-a-view-versus-a-copy\n",
      "  budget[19730] = 0\n",
      "C:\\Users\\Administrator\\AppData\\Local\\Temp\\ipykernel_6432\\395374050.py:5: SettingWithCopyWarning: \n",
      "A value is trying to be set on a copy of a slice from a DataFrame\n",
      "\n",
      "See the caveats in the documentation: https://pandas.pydata.org/pandas-docs/stable/user_guide/indexing.html#returning-a-view-versus-a-copy\n",
      "  budget[29503] = 0\n",
      "C:\\Users\\Administrator\\AppData\\Local\\Temp\\ipykernel_6432\\395374050.py:6: SettingWithCopyWarning: \n",
      "A value is trying to be set on a copy of a slice from a DataFrame\n",
      "\n",
      "See the caveats in the documentation: https://pandas.pydata.org/pandas-docs/stable/user_guide/indexing.html#returning-a-view-versus-a-copy\n",
      "  budget[35587] = 0\n"
     ]
    }
   ],
   "source": [
    "#comienzo a armar columna return\n",
    "\n",
    "budget=dfMovies[\"budget\"] #debo reemplazar esos valores porque sino me da error\n",
    "budget[19730] = 0\n",
    "budget[29503] = 0\n",
    "budget[35587] = 0\n",
    "\n",
    "#paso a float\n",
    "dfMovies[\"revenue\"]=pd.DataFrame(dfMovies[\"revenue\"]).astype(float)\n",
    "dfMovies[\"budget\"]=pd.DataFrame(dfMovies[\"budget\"]).astype(float)\n",
    "\n",
    "#creo la columna return y relleno con 0 cuando el resultado es None\n",
    "dfMovies[\"return\"]=round(dfMovies[\"revenue\"]/dfMovies[\"budget\"], 2)\n",
    "dfMovies['return'] = dfMovies['return'].fillna(0)\n",
    "\n",
    "#reemplazo valores infinitos\n",
    "dfMovies.replace([np.inf, -np.inf], 0, inplace=True)\n",
    "\n",
    "#para revisar si hay valores infinitos\n",
    "counter=0\n",
    "for i in dfMovies[\"return\"]:\n",
    "    if i == float(\"inf\"):\n",
    "        print(i)\n",
    "        counter+=1\n",
    "print(counter)\n"
   ]
  },
  {
   "cell_type": "code",
   "execution_count": 42,
   "metadata": {},
   "outputs": [],
   "source": [
    "#desanido la columna crew y la dejo en un df separado (tarda como 13 minutos en armarse)\n",
    "#dfCrew = pd.DataFrame()\n",
    "#for i in range(len(dfCredits)):\n",
    "#    stringsCrew = dfCredits.crew[i]\n",
    "#    dictionaryCrew = eval(stringsCrew) #esto es para pasarlo de string a lista y poder armar el df\n",
    "#    dictionaryCrew = pd.DataFrame(dictionaryCrew)\n",
    "#    dictionaryCrew[\"id\"] = dfCredits.id[i]  #reemplazo el id del df con el de dfCredits para poder unirlo a su pelicula\n",
    "#    dfCrew = pd.concat([dfCrew, dictionaryCrew])\n",
    "    #dfCrew = dfCrew.reset_index(drop=True) #si descomento el reindex tarda mas del doble"
   ]
  },
  {
   "cell_type": "code",
   "execution_count": 43,
   "metadata": {},
   "outputs": [],
   "source": [
    "#desanido la columna cast y la dejo en un df separado (tarda como 17 minutos en armarse)\n",
    "#dfCast = pd.DataFrame()\n",
    "#for i in range(len(dfCredits)):\n",
    "#    stringsCast = dfCredits.cast[i]\n",
    "#    dictionaryCast = eval(stringsCast) #esto es para pasarlo de string a lista y poder armar el df\n",
    "#    dictionaryCast = pd.DataFrame(dictionaryCast)\n",
    "#    dictionaryCast[\"id\"] = dfCredits.id[i] #reemplazo el id del df con el de dfCredits para poder unirlo a su pelicula\n",
    "#    dfCast = pd.concat([dfCast, dictionaryCast])\n",
    "    #dfCast = dfCast.reset_index(drop=True) #si descomento el reindex tarda mas del doble"
   ]
  },
  {
   "cell_type": "code",
   "execution_count": 44,
   "metadata": {},
   "outputs": [
    {
     "name": "stderr",
     "output_type": "stream",
     "text": [
      "C:\\Users\\Administrator\\AppData\\Local\\Temp\\ipykernel_6432\\3219173764.py:16: SettingWithCopyWarning: \n",
      "A value is trying to be set on a copy of a slice from a DataFrame\n",
      "\n",
      "See the caveats in the documentation: https://pandas.pydata.org/pandas-docs/stable/user_guide/indexing.html#returning-a-view-versus-a-copy\n",
      "  id[19730] = 1111111\n",
      "C:\\Users\\Administrator\\AppData\\Local\\Temp\\ipykernel_6432\\3219173764.py:17: SettingWithCopyWarning: \n",
      "A value is trying to be set on a copy of a slice from a DataFrame\n",
      "\n",
      "See the caveats in the documentation: https://pandas.pydata.org/pandas-docs/stable/user_guide/indexing.html#returning-a-view-versus-a-copy\n",
      "  id[29503] = 2222222\n",
      "C:\\Users\\Administrator\\AppData\\Local\\Temp\\ipykernel_6432\\3219173764.py:18: SettingWithCopyWarning: \n",
      "A value is trying to be set on a copy of a slice from a DataFrame\n",
      "\n",
      "See the caveats in the documentation: https://pandas.pydata.org/pandas-docs/stable/user_guide/indexing.html#returning-a-view-versus-a-copy\n",
      "  id[35587] = 3333333\n"
     ]
    }
   ],
   "source": [
    "#me deshago de lo que me quede con belongs_to_collection y solo uso la columna titulos\n",
    "dfMovies=dfMovies.drop(columns=[\"movie_title\"])\n",
    "titles=pd.DataFrame(dfMovies[\"title\"])\n",
    "dfMovies.insert(0,\"movie_title\" ,titles)\n",
    "dfMovies=dfMovies.drop(columns=[\"title\"])\n",
    "\n",
    "#cambio nans en todas las columnas por \"Unkown Value\"\n",
    "\n",
    "columns = [a for a in dfMovies.columns]\n",
    "for i in range(len(columns)):\n",
    "    dfMovies[columns[i]]=dfMovies[columns[i]].fillna(\"Unkown Value\")\n",
    "\n",
    "#valores raros en id\n",
    "id=dfMovies[\"id\"]\n",
    "\n",
    "id[19730] = 1111111\n",
    "id[29503] = 2222222\n",
    "id[35587] = 3333333\n"
   ]
  },
  {
   "cell_type": "code",
   "execution_count": 45,
   "metadata": {},
   "outputs": [],
   "source": [
    "#para exportar csv e ir probando cargarlo a la API\n",
    "dfMovies.to_csv(r\"C:\\Users\\\\Administrator\\\\Desktop\\\\dfMovies.csv\")"
   ]
  },
  {
   "cell_type": "code",
   "execution_count": 46,
   "metadata": {},
   "outputs": [
    {
     "data": {
      "text/plain": [
       "movie_title            object\n",
       "movie_genre            object\n",
       "budget                float64\n",
       "id                      int32\n",
       "original_language      object\n",
       "overview               object\n",
       "popularity             object\n",
       "production_company     object\n",
       "production_country     object\n",
       "release_date           object\n",
       "release_year            int32\n",
       "revenue               float64\n",
       "runtime                object\n",
       "language               object\n",
       "status                 object\n",
       "tagline                object\n",
       "vote_average           object\n",
       "vote_count             object\n",
       "return                float64\n",
       "dtype: object"
      ]
     },
     "execution_count": 46,
     "metadata": {},
     "output_type": "execute_result"
    }
   ],
   "source": [
    "dfMovies[\"movie_title\"] = dfMovies[\"movie_title\"].astype(str)\n",
    "dfMovies[\"movie_genre\"] = dfMovies[\"movie_genre\"].astype(str)\n",
    "dfMovies[\"id\"] = dfMovies[\"id\"].astype(int)\n",
    "dfMovies.dtypes"
   ]
  },
  {
   "cell_type": "code",
   "execution_count": 47,
   "metadata": {},
   "outputs": [
    {
     "data": {
      "text/plain": [
       "movie_title            object\n",
       "movie_genre            object\n",
       "budget                float64\n",
       "id                      int32\n",
       "original_language      object\n",
       "overview               object\n",
       "popularity             object\n",
       "production_company     object\n",
       "production_country     object\n",
       "release_date           object\n",
       "release_year            int32\n",
       "revenue               float64\n",
       "runtime                object\n",
       "language               object\n",
       "status                 object\n",
       "tagline                object\n",
       "vote_average           object\n",
       "vote_count             object\n",
       "return                float64\n",
       "dtype: object"
      ]
     },
     "execution_count": 47,
     "metadata": {},
     "output_type": "execute_result"
    }
   ],
   "source": [
    "dfMovies.dtypes"
   ]
  },
  {
   "cell_type": "code",
   "execution_count": 48,
   "metadata": {},
   "outputs": [
    {
     "data": {
      "text/plain": [
       "0         October\n",
       "1        December\n",
       "2        December\n",
       "3        December\n",
       "4        February\n",
       "           ...   \n",
       "45460         May\n",
       "45462    November\n",
       "45463      August\n",
       "45464     October\n",
       "45465        June\n",
       "Name: release_date, Length: 45379, dtype: object"
      ]
     },
     "execution_count": 48,
     "metadata": {},
     "output_type": "execute_result"
    }
   ],
   "source": [
    "dfMovies[\"release_date\"]\n",
    "                                                       #%d&%m&%y\n",
    "dfMovies[\"release_date\"] = pd.to_datetime(dfMovies[\"release_date\"], format=\"%Y-%m-%d\")\n",
    "month = dfMovies[\"release_date\"].dt.month_name()\n",
    "dfMovies[\"\"]\n",
    "\n",
    "\n",
    "#\"710\": \"710\", REVISAR ESTE ID, INDEX NO SE. A PARTIR DE ACA YA NO COINCIDEN EL ID O ALGO ASI."
   ]
  },
  {
   "cell_type": "code",
   "execution_count": 56,
   "metadata": {},
   "outputs": [],
   "source": [
    "\n",
    "import pandas as pd\n",
    "\n",
    "# Sample DataFrame\n",
    "data = {\n",
    "    'numbers': [1, 3, 7, 5, 7, 8, 2],\n",
    "    'values': [10, 20, 30, 40, 50, 60, 70]\n",
    "}\n",
    "df = pd.DataFrame(data)\n",
    "df[df.numbers == 7]\n",
    "\n"
   ]
  },
  {
   "cell_type": "code",
   "execution_count": 79,
   "metadata": {},
   "outputs": [
    {
     "data": {
      "text/html": [
       "<div>\n",
       "<style scoped>\n",
       "    .dataframe tbody tr th:only-of-type {\n",
       "        vertical-align: middle;\n",
       "    }\n",
       "\n",
       "    .dataframe tbody tr th {\n",
       "        vertical-align: top;\n",
       "    }\n",
       "\n",
       "    .dataframe thead th {\n",
       "        text-align: right;\n",
       "    }\n",
       "</style>\n",
       "<table border=\"1\" class=\"dataframe\">\n",
       "  <thead>\n",
       "    <tr style=\"text-align: right;\">\n",
       "      <th></th>\n",
       "      <th>popularity</th>\n",
       "    </tr>\n",
       "  </thead>\n",
       "  <tbody>\n",
       "    <tr>\n",
       "      <th>0</th>\n",
       "      <td>21.946943</td>\n",
       "    </tr>\n",
       "  </tbody>\n",
       "</table>\n",
       "</div>"
      ],
      "text/plain": [
       "  popularity\n",
       "0  21.946943"
      ]
     },
     "execution_count": 79,
     "metadata": {},
     "output_type": "execute_result"
    }
   ],
   "source": [
    "#iloc integer indexing\n",
    "#loc labelled indexing\n",
    "titulo_de_la_filmación = \"Toy Story\"\n",
    "popularity=dfMovies.loc[dfMovies.movie_title == titulo_de_la_filmación, [\"popularity\"]]\n",
    "popularity"
   ]
  }
 ],
 "metadata": {
  "kernelspec": {
   "display_name": "Python 3",
   "language": "python",
   "name": "python3"
  },
  "language_info": {
   "codemirror_mode": {
    "name": "ipython",
    "version": 3
   },
   "file_extension": ".py",
   "mimetype": "text/x-python",
   "name": "python",
   "nbconvert_exporter": "python",
   "pygments_lexer": "ipython3",
   "version": "3.11.3"
  },
  "orig_nbformat": 4
 },
 "nbformat": 4,
 "nbformat_minor": 2
}
