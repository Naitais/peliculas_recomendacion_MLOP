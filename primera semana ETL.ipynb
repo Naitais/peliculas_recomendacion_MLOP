{
 "cells": [
  {
   "cell_type": "code",
   "execution_count": 173,
   "metadata": {},
   "outputs": [],
   "source": [
    "import pandas as pd\n",
    "import numpy as np\n",
    "import json\n",
    "\n",
    "#cargo los datasets\n",
    "#si agrego  dtype='unicode' evito algunos errores sobre tipos de datos\n",
    "dfMovies = pd.read_csv(r'datasets\\movies_dataset.csv', dtype='unicode')\n",
    "dfCredits= pd.read_csv(r'datasets\\credits.csv', dtype='unicode')\n",
    "\n",
    "pd.set_option(\"display.max_rows\", 2000, \"display.max_columns\", None)"
   ]
  },
  {
   "cell_type": "code",
   "execution_count": 183,
   "metadata": {},
   "outputs": [],
   "source": [
    "#trabajo con la columna anidada belongs to collection\n",
    "\n",
    "#\n",
    "\n",
    "rows = dfMovies['belongs_to_collection']\n",
    "listaDict = []\n",
    "#prueba = json.loads(rows.iloc[0].replace(\"'\", '\"'))\n",
    "\n",
    "for k, v in rows.items():\n",
    "    try:\n",
    "        diccionario=json.loads(rows.iloc[k].replace(\"'\", '\"'))\n",
    "        listaDict = listaDict.append(diccionario.copy())\n",
    "    except: #si no le pongo el except me tira error al\n",
    "         None\n",
    "\n",
    "listaDict\n",
    "\n"
   ]
  },
  {
   "cell_type": "code",
   "execution_count": 184,
   "metadata": {},
   "outputs": [],
   "source": [
    "listaDict"
   ]
  },
  {
   "cell_type": "markdown",
   "metadata": {},
   "source": [
    "# Convertimos los datos anidados en diccionarios cargando las cadenas JSON\n",
    "def convert_to_dict(json_string):\n",
    "    try:\n",
    "        return json.loads(json_string.replace(\"'\", '\"'))\n",
    "    except:\n",
    "        return None\n",
    "\n",
    "\n",
    "\n",
    "   \n",
    "columna_dict = belongs_to_collection.apply(convert_to_dict)\n",
    "\n",
    "# Filtramos los valores que no sean 'None'\n",
    "valid_columna = columna_dict.dropna()\n",
    "\n",
    "# Desanidamos los datos usando json_normalize\n",
    "columna_df = pd.json_normalize(valid_columna)\n",
    "\n",
    "# Visualizamos el DataFrame resultante\n",
    "columna_df.head()"
   ]
  }
 ],
 "metadata": {
  "kernelspec": {
   "display_name": "Python 3",
   "language": "python",
   "name": "python3"
  },
  "language_info": {
   "codemirror_mode": {
    "name": "ipython",
    "version": 3
   },
   "file_extension": ".py",
   "mimetype": "text/x-python",
   "name": "python",
   "nbconvert_exporter": "python",
   "pygments_lexer": "ipython3",
   "version": "3.11.3"
  },
  "orig_nbformat": 4
 },
 "nbformat": 4,
 "nbformat_minor": 2
}
