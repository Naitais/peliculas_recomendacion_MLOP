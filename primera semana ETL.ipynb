{
 "cells": [
  {
   "cell_type": "code",
   "execution_count": null,
   "metadata": {},
   "outputs": [],
   "source": [
    "import pandas as pd\n",
    "import numpy as np\n",
    "import json\n",
    "\n",
    "#cargo los datasets\n",
    "#si agrego  dtype='unicode' evito algunos errores sobre tipos de datos\n",
    "dfMovies = pd.read_csv(r'datasets\\movies_dataset.csv', dtype='unicode')\n",
    "dfCredits= pd.read_csv(r'datasets\\credits.csv', dtype='unicode')\n",
    "\n",
    "pd.set_option(\"display.max_rows\", 2000, \"display.max_columns\", None)"
   ]
  },
  {
   "cell_type": "code",
   "execution_count": null,
   "metadata": {},
   "outputs": [],
   "source": [
    "#TRANSFORMACIONES VARIAS ---> NO OLVIDAR CORRER LO QUE ESTA COMENTADO\n",
    "\n",
    "#lleno NaNs con 0s en las columnas revenue y budget\n",
    "#elimino rows que contienen un NaN en la columna release_date\n",
    "#elimino columnas que no se utilizaran\n",
    "try:\n",
    "    dfMovies['revenue'] = dfMovies['revenue'].fillna(0)\n",
    "    dfMovies['budget'] = dfMovies['budget'].fillna(0)\n",
    "    dfMovies = dfMovies.dropna(subset='release_date')\n",
    "    dfMovies= dfMovies.drop(columns=[\"video\",\"adult\",\"imdb_id\" ,\"original_title\", \"poster_path\", \"homepage\"])\n",
    "except:\n",
    "    print(\"estas transformaciones ya se ejecutaron\")\n"
   ]
  },
  {
   "cell_type": "code",
   "execution_count": null,
   "metadata": {},
   "outputs": [],
   "source": [
    "#FUNCIONES\n",
    "\n",
    "#desanida columna y devuelve un dataframe\n",
    "def desanidarColumna(columna):\n",
    "    lista = []\n",
    "    listaDict=[]\n",
    "    counter=0\n",
    "    for k, v in columna.items():\n",
    "        if isinstance(v, str):\n",
    "            lista.append(v)\n",
    "        else:\n",
    "            lista.append(None)\n",
    "    for i in lista:   \n",
    "                try:\n",
    "                    i=json.loads(lista[counter].replace(\"'\", '\"'))\n",
    "                    listaDict.append(i)\n",
    "                    counter+=1\n",
    "                except:\n",
    "                    listaDict.append(None)\n",
    "                    counter+=1\n",
    "    listaDict=pd.json_normalize(listaDict)\n",
    "    return listaDict\n",
    "\n",
    "def desanidarVariasColumnas(columna):\n",
    "    lista=[]\n",
    "    for col in columna:            \n",
    "        #normalizo cada columna\n",
    "        colAnidada=pd.json_normalize(columna[col])\n",
    "        lista.append(colAnidada) #meto cada columna en una lista\n",
    "\n",
    "        #armo un df concatenando cada columna de la lista\n",
    "        nuevoDF=pd.concat(lista)\n",
    "    return nuevoDF\n"
   ]
  },
  {
   "cell_type": "code",
   "execution_count": null,
   "metadata": {},
   "outputs": [],
   "source": [
    "#desanido belongs to collection\n",
    "\n",
    "Títulos = (desanidarColumna(dfMovies['belongs_to_collection']))\n",
    "#dfMovies[\"Títulos\"] = Títulos[\"name\"] es otra forma de agregar la columna\n",
    "#agrego la columna al inicio\n",
    "\n",
    "#inserto nueva columna y elimino la vieja\n",
    "dfMovies.insert(0, \"movie_title\", Títulos[\"name\"])\n",
    "dfMovies= dfMovies.drop(columns=[\"belongs_to_collection\"])"
   ]
  },
  {
   "cell_type": "code",
   "execution_count": null,
   "metadata": {},
   "outputs": [],
   "source": [
    "#la columna generos hay que desanidarle cada columna despues de aplciarle la funcion\n",
    "\n",
    "dfGeneros = (desanidarColumna(dfMovies['genres'])) #le aplico la primera funcion\n",
    "dfGeneros=desanidarVariasColumnas(dfGeneros) #desanido cada columna con la segunda funcion      \n",
    "dfGeneros=dfGeneros.iloc[:45378] #esto es cualquier cosa pero bueno, funciona xd\n",
    "                                 #uso iloc para obtener solo hasta el row 45378 porque sino tengo errores\n",
    "                                 \n",
    "#inserto nueva columna y elimino la vieja\n",
    "dfMovies.insert(1, \"movie_genre\", dfGeneros[\"name\"])\n",
    "dfMovies= dfMovies.drop(columns=[\"genres\"])"
   ]
  },
  {
   "cell_type": "code",
   "execution_count": null,
   "metadata": {},
   "outputs": [],
   "source": [
    "#desanido tabla production_companies\n",
    "dfCompanies=desanidarColumna(dfMovies['production_companies'])\n",
    "dfCompanies=desanidarVariasColumnas(dfCompanies)\n",
    "dfCompanies= dfCompanies.iloc[:45379]\n",
    "\n",
    "#inserto nueva columna y elimino la vieja\n",
    "dfMovies.insert(7, \"production_company\", dfCompanies[\"name\"])\n",
    "dfMovies= dfMovies.drop(columns=[\"production_companies\"])"
   ]
  },
  {
   "cell_type": "code",
   "execution_count": null,
   "metadata": {},
   "outputs": [],
   "source": [
    "#desanido production_countries\n",
    "dfProdCountries=desanidarVariasColumnas(desanidarColumna(dfMovies[\"production_countries\"]))\n",
    "dfProdCountries = dfProdCountries.iloc[:45379]\n",
    "\n",
    "#inserto nueva columna y elimino la vieja\n",
    "dfMovies.insert(8, \"production_country\", dfProdCountries[\"name\"])\n",
    "dfMovies= dfMovies.drop(columns=[\"production_countries\"])"
   ]
  },
  {
   "cell_type": "code",
   "execution_count": null,
   "metadata": {},
   "outputs": [],
   "source": [
    "#desanido spoken_languages\n",
    "dfSpokenLan=desanidarVariasColumnas(desanidarColumna(dfMovies[\"spoken_languages\"]))\n",
    "dfSpokenLan = dfSpokenLan.iloc[:45379]\n",
    "\n",
    "#inserto nueva columna y elimino la vieja\n",
    "dfMovies.insert(12, \"language\", dfSpokenLan[\"name\"]) #puedo elegir entre poner la abreviacion o la palabra entera\n",
    "dfMovies= dfMovies.drop(columns=[\"spoken_languages\"])"
   ]
  },
  {
   "cell_type": "code",
   "execution_count": null,
   "metadata": {},
   "outputs": [],
   "source": [
    "#tablas que contienen fechas:\n",
    "    #release_date\n",
    "release_year = dfMovies[\"release_date\"]\n",
    "#cambio valores de fechas invalidas a fechas default\n",
    "release_year[19730] = \"1900-01-01\"\n",
    "release_year[29503] = \"1900-01-01\"\n",
    "release_year[35587] = \"1900-01-01\"\n",
    "\n",
    "#obtengo solo año de cada string de fecha y lo meto en release_year\n",
    "release_year = pd.to_datetime(release_year).dt.year\n",
    "\n",
    "#inserto nueva columan release_year\n",
    "dfMovies.insert(10, \"release_year\", release_year)\n",
    "\n",
    "#se supone que transforme la columna en date type pero es un int REVISAR"
   ]
  },
  {
   "cell_type": "code",
   "execution_count": null,
   "metadata": {},
   "outputs": [],
   "source": [
    "#comienzo a armar columna return\n",
    "\n",
    "budget=dfMovies[\"budget\"] #debo reemplazar esos valores porque sino me da error\n",
    "budget[19730] = 0\n",
    "budget[29503] = 0\n",
    "budget[35587] = 0\n",
    "\n",
    "#paso a float\n",
    "dfMovies[\"revenue\"]=pd.DataFrame(dfMovies[\"revenue\"]).astype(float)\n",
    "dfMovies[\"budget\"]=pd.DataFrame(dfMovies[\"budget\"]).astype(float)\n",
    "\n",
    "#creo la columna return y relleno con 0 cuando el resultado es None\n",
    "dfMovies[\"return\"]=dfMovies[\"revenue\"]/dfMovies[\"budget\"]\n",
    "dfMovies['return'] = dfMovies['return'].fillna(0)\n",
    "\n",
    "#reemplazo valores infinitos\n",
    "dfMovies.replace([np.inf, -np.inf], 0, inplace=True)\n",
    "\n",
    "#para revisar si hay valores infinitos\n",
    "counter=0\n",
    "for i in dfMovies[\"return\"]:\n",
    "    if i == float(\"inf\"):\n",
    "        print(i)\n",
    "        counter+=1\n",
    "print(counter)\n"
   ]
  },
  {
   "cell_type": "code",
   "execution_count": null,
   "metadata": {},
   "outputs": [],
   "source": [
    "#desanido la columna crew y la dejo en un df separado (tarda como 15 minutos en armarse)\n",
    "dfCrew = pd.DataFrame()\n",
    "for i in range(len(dfCredits)):\n",
    "    stringsCrew = dfCredits.crew[i]\n",
    "    dictionaryCrew = eval(stringsCrew) #esto es para pasarlo de string a lista y poder armar el df\n",
    "    dictionaryCrew = pd.DataFrame(dictionaryCrew)\n",
    "    dictionaryCrew[\"id\"] = dfCredits.id[i]  #reemplazo el id del df con el de dfCredits para poder unirlo a su pelicula\n",
    "    dfCrew = pd.concat([dfCrew, dictionaryCrew])\n",
    "    dfCrew = dfCrew.reset_index(drop=True)"
   ]
  },
  {
   "cell_type": "code",
   "execution_count": null,
   "metadata": {},
   "outputs": [],
   "source": [
    "#desanido la columna cast y la dejo en un df separado (tarda como 15 minutos en armarse)\n",
    "dfCast = pd.DataFrame()\n",
    "for i in range(len(dfCredits)):\n",
    "    stringsCast = dfCredits.cast[i]\n",
    "    dictionaryCast = eval(stringsCast) #esto es para pasarlo de string a lista y poder armar el df\n",
    "    dictionaryCast = pd.DataFrame(dictionaryCast)\n",
    "    dictionaryCast[\"id\"] = dfCredits.id[i] #reemplazo el id del df con el de dfCredits para poder unirlo a su pelicula\n",
    "    dfCast = pd.concat([dfCast, dictionaryCast])\n",
    "    dfCast = dfCast.reset_index(drop=True)"
   ]
  },
  {
   "cell_type": "code",
   "execution_count": null,
   "metadata": {},
   "outputs": [],
   "source": []
  }
 ],
 "metadata": {
  "kernelspec": {
   "display_name": "Python 3",
   "language": "python",
   "name": "python3"
  },
  "language_info": {
   "codemirror_mode": {
    "name": "ipython",
    "version": 3
   },
   "file_extension": ".py",
   "mimetype": "text/x-python",
   "name": "python",
   "nbconvert_exporter": "python",
   "pygments_lexer": "ipython3",
   "version": "3.11.3"
  },
  "orig_nbformat": 4
 },
 "nbformat": 4,
 "nbformat_minor": 2
}
