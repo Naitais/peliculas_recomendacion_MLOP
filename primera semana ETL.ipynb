{
 "cells": [
  {
   "cell_type": "code",
   "execution_count": 1,
   "metadata": {},
   "outputs": [],
   "source": [
    "import pandas as pd\n",
    "import numpy as np\n",
    "import json\n",
    "\n",
    "#cargo los datasets\n",
    "#si agrego  dtype='unicode' evito algunos errores sobre tipos de datos\n",
    "dfMovies = pd.read_csv(r'datasets\\movies_dataset.csv', dtype='unicode')\n",
    "dfCredits= pd.read_csv(r'datasets\\credits.csv', dtype='unicode')\n",
    "\n",
    "pd.set_option(\"display.max_rows\", 2000, \"display.max_columns\", None)"
   ]
  },
  {
   "cell_type": "code",
   "execution_count": 178,
   "metadata": {},
   "outputs": [],
   "source": [
    "#FUNCIONES\n",
    "\n",
    "#desanida columna y devuelve una lista de diccionarios\n",
    "def desanidarColumna(columna):\n",
    "    lista = []\n",
    "    listaDict=[]\n",
    "    counter=0\n",
    "\n",
    "    for k, v in columna.items():\n",
    "        if isinstance(v, str):\n",
    "            lista.append(v)\n",
    "        else:\n",
    "            lista.append('valor desconocido')\n",
    "\n",
    "    for i in lista:\n",
    "        \n",
    "            try:\n",
    "                i=json.loads(lista[counter].replace(\"'\", '\"'))\n",
    "                listaDict.append(i)\n",
    "                counter+=1\n",
    "            except:\n",
    "                None\n",
    "                counter+=1\n",
    "                \n",
    "    return listaDict.dropna()\n",
    "    \n"
   ]
  },
  {
   "cell_type": "code",
   "execution_count": 180,
   "metadata": {},
   "outputs": [
    {
     "ename": "AttributeError",
     "evalue": "'list' object has no attribute 'dropna'",
     "output_type": "error",
     "traceback": [
      "\u001b[1;31m---------------------------------------------------------------------------\u001b[0m",
      "\u001b[1;31mAttributeError\u001b[0m                            Traceback (most recent call last)",
      "Cell \u001b[1;32mIn[180], line 1\u001b[0m\n\u001b[1;32m----> 1\u001b[0m columna \u001b[39m=\u001b[39m desanidarColumna(dfMovies[\u001b[39m'\u001b[39;49m\u001b[39mbelongs_to_collection\u001b[39;49m\u001b[39m'\u001b[39;49m])\n\u001b[0;32m      3\u001b[0m columna \u001b[39m=\u001b[39m columna\u001b[39m.\u001b[39mdropna()\n\u001b[0;32m      4\u001b[0m \u001b[39m#busco si hay valores nulos porque al convertir mi resultado de funcion me tira error\u001b[39;00m\n\u001b[0;32m      5\u001b[0m \n\u001b[0;32m      6\u001b[0m \u001b[39m#i es cada diccionario\u001b[39;00m\n\u001b[1;32m   (...)\u001b[0m\n\u001b[0;32m     10\u001b[0m \u001b[39m#        print(i)\u001b[39;00m\n\u001b[0;32m     11\u001b[0m \u001b[39m#    else:\u001b[39;00m\n",
      "Cell \u001b[1;32mIn[178], line 25\u001b[0m, in \u001b[0;36mdesanidarColumna\u001b[1;34m(columna)\u001b[0m\n\u001b[0;32m     22\u001b[0m             \u001b[39mNone\u001b[39;00m\n\u001b[0;32m     23\u001b[0m             counter\u001b[39m+\u001b[39m\u001b[39m=\u001b[39m\u001b[39m1\u001b[39m\n\u001b[1;32m---> 25\u001b[0m \u001b[39mreturn\u001b[39;00m listaDict\u001b[39m.\u001b[39;49mdropna()\n",
      "\u001b[1;31mAttributeError\u001b[0m: 'list' object has no attribute 'dropna'"
     ]
    }
   ],
   "source": [
    "columna = desanidarColumna(dfMovies['belongs_to_collection'])\n",
    "\n",
    "columna = columna.dropna()\n",
    "#busco si hay valores nulos porque al convertir mi resultado de funcion me tira error\n",
    "#IDEA ---> convertir cada diccionario en un dataframe dentro de la funcion y si alguno \n",
    "    # tira error quiere decir que tiene un nulo\n",
    "\n",
    "#i es cada diccionario\n",
    "#k son las llaves\n",
    "#for i in df:\n",
    "#    if i is None:\n",
    "#        print(i)\n",
    "#    else:\n",
    "        \n"
   ]
  },
  {
   "cell_type": "markdown",
   "metadata": {},
   "source": [
    "# Convertimos los datos anidados en diccionarios cargando las cadenas JSON\n",
    "def convert_to_dict(json_string):\n",
    "    try:\n",
    "        return json.loads(json_string.replace(\"'\", '\"'))\n",
    "    except:\n",
    "        return None\n",
    "\n",
    "\n",
    "\n",
    "   \n",
    "columna_dict = belongs_to_collection.apply(convert_to_dict)\n",
    "\n",
    "# Filtramos los valores que no sean 'None'\n",
    "valid_columna = columna_dict.dropna()\n",
    "\n",
    "# Desanidamos los datos usando json_normalize\n",
    "columna_df = pd.json_normalize(valid_columna)\n",
    "\n",
    "# Visualizamos el DataFrame resultante\n",
    "columna_df.head()"
   ]
  }
 ],
 "metadata": {
  "kernelspec": {
   "display_name": "Python 3",
   "language": "python",
   "name": "python3"
  },
  "language_info": {
   "codemirror_mode": {
    "name": "ipython",
    "version": 3
   },
   "file_extension": ".py",
   "mimetype": "text/x-python",
   "name": "python",
   "nbconvert_exporter": "python",
   "pygments_lexer": "ipython3",
   "version": "3.11.3"
  },
  "orig_nbformat": 4
 },
 "nbformat": 4,
 "nbformat_minor": 2
}
