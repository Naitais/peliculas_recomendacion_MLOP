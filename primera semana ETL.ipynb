{
 "cells": [
  {
   "cell_type": "code",
   "execution_count": 1,
   "metadata": {},
   "outputs": [],
   "source": [
    "import pandas as pd\n",
    "import numpy as np\n",
    "import json\n",
    "\n",
    "#cargo los datasets\n",
    "#si agrego  dtype='unicode' evito algunos errores sobre tipos de datos\n",
    "dfMovies = pd.read_csv(r'datasets\\movies_dataset.csv', dtype='unicode')\n",
    "dfCredits= pd.read_csv(r'datasets\\credits.csv', dtype='unicode')\n",
    "\n",
    "pd.set_option(\"display.max_rows\", 2000, \"display.max_columns\", None)"
   ]
  },
  {
   "cell_type": "code",
   "execution_count": 2,
   "metadata": {},
   "outputs": [],
   "source": [
    "#TRANSFORMACIONES VARIAS ---> NO OLVIDAR CORRER LO QUE ESTA COMENTADO\n",
    "\n",
    "#lleno NaNs con 0s en las columnas revenue y budget\n",
    "#elimino rows que contienen un NaN en la columna release_date\n",
    "#elimino columnas que no se utilizaran\n",
    "try:\n",
    "    dfMovies['revenue'] = dfMovies['revenue'].fillna(0)\n",
    "    dfMovies['budget'] = dfMovies['budget'].fillna(0)\n",
    "    dfMovies = dfMovies.dropna(subset='release_date')\n",
    "    dfMovies= dfMovies.drop(columns=[\"video\",\"adult\",\"imdb_id\" ,\"original_title\", \"poster_path\", \"homepage\"])\n",
    "except:\n",
    "    print(\"estas transformaciones ya se ejecutaron\")\n"
   ]
  },
  {
   "cell_type": "code",
   "execution_count": 3,
   "metadata": {},
   "outputs": [],
   "source": [
    "#FUNCIONES\n",
    "\n",
    "#desanida columna y devuelve un dataframe\n",
    "def desanidarColumna(columna):\n",
    "    lista = []\n",
    "    listaDict=[]\n",
    "    counter=0\n",
    "    for k, v in columna.items():\n",
    "        if isinstance(v, str):\n",
    "            lista.append(v)\n",
    "        else:\n",
    "            lista.append(None)\n",
    "    for i in lista:   \n",
    "                try:\n",
    "                    i=json.loads(lista[counter].replace(\"'\", '\"'))\n",
    "                    listaDict.append(i)\n",
    "                    counter+=1\n",
    "                except:\n",
    "                    listaDict.append(None)\n",
    "                    counter+=1\n",
    "    listaDict=pd.json_normalize(listaDict)\n",
    "    return listaDict\n",
    "\n",
    "def desanidarVariasColumnas(columna):\n",
    "    lista=[]\n",
    "    for col in columna:            \n",
    "        #normalizo cada columna\n",
    "        colAnidada=pd.json_normalize(columna[col])\n",
    "        lista.append(colAnidada) #meto cada columna en una lista\n",
    "\n",
    "        #armo un df concatenando cada columna de la lista\n",
    "        nuevoDF=pd.concat(lista)\n",
    "    return nuevoDF\n"
   ]
  },
  {
   "cell_type": "code",
   "execution_count": 4,
   "metadata": {},
   "outputs": [],
   "source": [
    "#desanido belongs to collection\n",
    "\n",
    "Títulos = (desanidarColumna(dfMovies['belongs_to_collection']))\n",
    "#dfMovies[\"Títulos\"] = Títulos[\"name\"] es otra forma de agregar la columna\n",
    "#agrego la columna al inicio\n",
    "\n",
    "#inserto nueva columna y elimino la vieja\n",
    "dfMovies.insert(0, \"movie_title\", Títulos[\"name\"])\n",
    "dfMovies= dfMovies.drop(columns=[\"belongs_to_collection\"])"
   ]
  },
  {
   "cell_type": "code",
   "execution_count": 5,
   "metadata": {},
   "outputs": [],
   "source": [
    "#la columna generos hay que desanidarle cada columna despues de aplciarle la funcion\n",
    "\n",
    "dfGeneros = (desanidarColumna(dfMovies['genres'])) #le aplico la primera funcion\n",
    "dfGeneros=desanidarVariasColumnas(dfGeneros) #desanido cada columna con la segunda funcion      \n",
    "dfGeneros=dfGeneros.iloc[:45378] #esto es cualquier cosa pero bueno, funciona xd\n",
    "                                 #uso iloc para obtener solo hasta el row 45378 porque sino tengo errores\n",
    "                                 \n",
    "#inserto nueva columna y elimino la vieja\n",
    "dfMovies.insert(1, \"movie_genre\", dfGeneros[\"name\"])\n",
    "dfMovies= dfMovies.drop(columns=[\"genres\"])"
   ]
  },
  {
   "cell_type": "code",
   "execution_count": 6,
   "metadata": {},
   "outputs": [],
   "source": [
    "#desanido tabla production_companies\n",
    "dfCompanies=desanidarColumna(dfMovies['production_companies'])\n",
    "dfCompanies=desanidarVariasColumnas(dfCompanies)\n",
    "dfCompanies= dfCompanies.iloc[:45379]\n",
    "\n",
    "#inserto nueva columna y elimino la vieja\n",
    "dfMovies.insert(7, \"production_company\", dfCompanies[\"name\"])\n",
    "dfMovies= dfMovies.drop(columns=[\"production_companies\"])"
   ]
  },
  {
   "cell_type": "code",
   "execution_count": 7,
   "metadata": {},
   "outputs": [],
   "source": [
    "#desanido production_countries\n",
    "dfProdCountries=desanidarVariasColumnas(desanidarColumna(dfMovies[\"production_countries\"]))\n",
    "dfProdCountries = dfProdCountries.iloc[:45379]\n",
    "\n",
    "#inserto nueva columna y elimino la vieja\n",
    "dfMovies.insert(8, \"production_country\", dfProdCountries[\"name\"])\n",
    "dfMovies= dfMovies.drop(columns=[\"production_countries\"])"
   ]
  },
  {
   "cell_type": "code",
   "execution_count": 8,
   "metadata": {},
   "outputs": [],
   "source": [
    "#desanido spoken_languages\n",
    "dfSpokenLan=desanidarVariasColumnas(desanidarColumna(dfMovies[\"spoken_languages\"]))\n",
    "dfSpokenLan = dfSpokenLan.iloc[:45379]\n",
    "\n",
    "#inserto nueva columna y elimino la vieja\n",
    "dfMovies.insert(12, \"language\", dfSpokenLan[\"name\"]) #puedo elegir entre poner la abreviacion o la palabra entera\n",
    "dfMovies= dfMovies.drop(columns=[\"spoken_languages\"])"
   ]
  },
  {
   "cell_type": "code",
   "execution_count": 9,
   "metadata": {},
   "outputs": [],
   "source": [
    "#tablas que contienen fechas:\n",
    "    #release_date\n",
    "release_year = dfMovies[\"release_date\"]\n",
    "#cambio valores de fechas invalidas a fechas default\n",
    "release_year[19730] = \"1900-01-01\"\n",
    "release_year[29503] = \"1900-01-01\"\n",
    "release_year[35587] = \"1900-01-01\"\n",
    "\n",
    "#obtengo solo año de cada string de fecha y lo meto en release_year\n",
    "release_year = pd.to_datetime(release_year).dt.year\n",
    "\n",
    "#inserto nueva columan release_year\n",
    "dfMovies.insert(10, \"release_year\", release_year)\n",
    "\n",
    "#se supone que transforme la columna en date type pero es un int REVISAR"
   ]
  },
  {
   "cell_type": "code",
   "execution_count": 99,
   "metadata": {},
   "outputs": [
    {
     "name": "stderr",
     "output_type": "stream",
     "text": [
      "C:\\Users\\Administrator\\AppData\\Local\\Temp\\ipykernel_10260\\2460657911.py:2: SettingWithCopyWarning: \n",
      "A value is trying to be set on a copy of a slice from a DataFrame\n",
      "\n",
      "See the caveats in the documentation: https://pandas.pydata.org/pandas-docs/stable/user_guide/indexing.html#returning-a-view-versus-a-copy\n",
      "  budget[19730] = 0\n",
      "C:\\Users\\Administrator\\AppData\\Local\\Temp\\ipykernel_10260\\2460657911.py:3: SettingWithCopyWarning: \n",
      "A value is trying to be set on a copy of a slice from a DataFrame\n",
      "\n",
      "See the caveats in the documentation: https://pandas.pydata.org/pandas-docs/stable/user_guide/indexing.html#returning-a-view-versus-a-copy\n",
      "  budget[29503] = 0\n",
      "C:\\Users\\Administrator\\AppData\\Local\\Temp\\ipykernel_10260\\2460657911.py:4: SettingWithCopyWarning: \n",
      "A value is trying to be set on a copy of a slice from a DataFrame\n",
      "\n",
      "See the caveats in the documentation: https://pandas.pydata.org/pandas-docs/stable/user_guide/indexing.html#returning-a-view-versus-a-copy\n",
      "  budget[35587] = 0\n"
     ]
    },
    {
     "ename": "ValueError",
     "evalue": "Expected a 1D array, got an array with shape (45379, 2)",
     "output_type": "error",
     "traceback": [
      "\u001b[1;31m---------------------------------------------------------------------------\u001b[0m",
      "\u001b[1;31mKeyError\u001b[0m                                  Traceback (most recent call last)",
      "File \u001b[1;32mc:\\Users\\Administrator\\AppData\\Local\\Programs\\Python\\Python311\\Lib\\site-packages\\pandas\\core\\indexes\\base.py:3652\u001b[0m, in \u001b[0;36mIndex.get_loc\u001b[1;34m(self, key)\u001b[0m\n\u001b[0;32m   3651\u001b[0m \u001b[39mtry\u001b[39;00m:\n\u001b[1;32m-> 3652\u001b[0m     \u001b[39mreturn\u001b[39;00m \u001b[39mself\u001b[39;49m\u001b[39m.\u001b[39;49m_engine\u001b[39m.\u001b[39;49mget_loc(casted_key)\n\u001b[0;32m   3653\u001b[0m \u001b[39mexcept\u001b[39;00m \u001b[39mKeyError\u001b[39;00m \u001b[39mas\u001b[39;00m err:\n",
      "File \u001b[1;32mc:\\Users\\Administrator\\AppData\\Local\\Programs\\Python\\Python311\\Lib\\site-packages\\pandas\\_libs\\index.pyx:147\u001b[0m, in \u001b[0;36mpandas._libs.index.IndexEngine.get_loc\u001b[1;34m()\u001b[0m\n",
      "File \u001b[1;32mc:\\Users\\Administrator\\AppData\\Local\\Programs\\Python\\Python311\\Lib\\site-packages\\pandas\\_libs\\index.pyx:176\u001b[0m, in \u001b[0;36mpandas._libs.index.IndexEngine.get_loc\u001b[1;34m()\u001b[0m\n",
      "File \u001b[1;32mpandas\\_libs\\hashtable_class_helper.pxi:7080\u001b[0m, in \u001b[0;36mpandas._libs.hashtable.PyObjectHashTable.get_item\u001b[1;34m()\u001b[0m\n",
      "File \u001b[1;32mpandas\\_libs\\hashtable_class_helper.pxi:7088\u001b[0m, in \u001b[0;36mpandas._libs.hashtable.PyObjectHashTable.get_item\u001b[1;34m()\u001b[0m\n",
      "\u001b[1;31mKeyError\u001b[0m: 'return'",
      "\nThe above exception was the direct cause of the following exception:\n",
      "\u001b[1;31mKeyError\u001b[0m                                  Traceback (most recent call last)",
      "File \u001b[1;32mc:\\Users\\Administrator\\AppData\\Local\\Programs\\Python\\Python311\\Lib\\site-packages\\pandas\\core\\frame.py:4120\u001b[0m, in \u001b[0;36mDataFrame._set_item_mgr\u001b[1;34m(self, key, value)\u001b[0m\n\u001b[0;32m   4119\u001b[0m \u001b[39mtry\u001b[39;00m:\n\u001b[1;32m-> 4120\u001b[0m     loc \u001b[39m=\u001b[39m \u001b[39mself\u001b[39;49m\u001b[39m.\u001b[39;49m_info_axis\u001b[39m.\u001b[39;49mget_loc(key)\n\u001b[0;32m   4121\u001b[0m \u001b[39mexcept\u001b[39;00m \u001b[39mKeyError\u001b[39;00m:\n\u001b[0;32m   4122\u001b[0m     \u001b[39m# This item wasn't present, just insert at end\u001b[39;00m\n",
      "File \u001b[1;32mc:\\Users\\Administrator\\AppData\\Local\\Programs\\Python\\Python311\\Lib\\site-packages\\pandas\\core\\indexes\\base.py:3654\u001b[0m, in \u001b[0;36mIndex.get_loc\u001b[1;34m(self, key)\u001b[0m\n\u001b[0;32m   3653\u001b[0m \u001b[39mexcept\u001b[39;00m \u001b[39mKeyError\u001b[39;00m \u001b[39mas\u001b[39;00m err:\n\u001b[1;32m-> 3654\u001b[0m     \u001b[39mraise\u001b[39;00m \u001b[39mKeyError\u001b[39;00m(key) \u001b[39mfrom\u001b[39;00m \u001b[39merr\u001b[39;00m\n\u001b[0;32m   3655\u001b[0m \u001b[39mexcept\u001b[39;00m \u001b[39mTypeError\u001b[39;00m:\n\u001b[0;32m   3656\u001b[0m     \u001b[39m# If we have a listlike key, _check_indexing_error will raise\u001b[39;00m\n\u001b[0;32m   3657\u001b[0m     \u001b[39m#  InvalidIndexError. Otherwise we fall through and re-raise\u001b[39;00m\n\u001b[0;32m   3658\u001b[0m     \u001b[39m#  the TypeError.\u001b[39;00m\n",
      "\u001b[1;31mKeyError\u001b[0m: 'return'",
      "\nDuring handling of the above exception, another exception occurred:\n",
      "\u001b[1;31mValueError\u001b[0m                                Traceback (most recent call last)",
      "Cell \u001b[1;32mIn[99], line 10\u001b[0m\n\u001b[0;32m      6\u001b[0m revenue\u001b[39m=\u001b[39mpd\u001b[39m.\u001b[39mDataFrame(dfMovies[\u001b[39m\"\u001b[39m\u001b[39mrevenue\u001b[39m\u001b[39m\"\u001b[39m])\u001b[39m.\u001b[39mastype(\u001b[39mfloat\u001b[39m)\n\u001b[0;32m      7\u001b[0m budget\u001b[39m=\u001b[39mpd\u001b[39m.\u001b[39mDataFrame(dfMovies[\u001b[39m\"\u001b[39m\u001b[39mbudget\u001b[39m\u001b[39m\"\u001b[39m])\u001b[39m.\u001b[39mastype(\u001b[39mfloat\u001b[39m)\n\u001b[1;32m---> 10\u001b[0m dfMovies[\u001b[39m\"\u001b[39;49m\u001b[39mreturn\u001b[39;49m\u001b[39m\"\u001b[39;49m] \u001b[39m=\u001b[39m np\u001b[39m.\u001b[39mwhere(revenue \u001b[39m>\u001b[39m \u001b[39m0\u001b[39m,revenue\u001b[39m/\u001b[39mbudget, np\u001b[39m.\u001b[39mnan)\n\u001b[0;32m     11\u001b[0m dfMovies\n",
      "File \u001b[1;32mc:\\Users\\Administrator\\AppData\\Local\\Programs\\Python\\Python311\\Lib\\site-packages\\pandas\\core\\frame.py:3960\u001b[0m, in \u001b[0;36mDataFrame.__setitem__\u001b[1;34m(self, key, value)\u001b[0m\n\u001b[0;32m   3957\u001b[0m     \u001b[39mself\u001b[39m\u001b[39m.\u001b[39m_setitem_array([key], value)\n\u001b[0;32m   3958\u001b[0m \u001b[39melse\u001b[39;00m:\n\u001b[0;32m   3959\u001b[0m     \u001b[39m# set column\u001b[39;00m\n\u001b[1;32m-> 3960\u001b[0m     \u001b[39mself\u001b[39;49m\u001b[39m.\u001b[39;49m_set_item(key, value)\n",
      "File \u001b[1;32mc:\\Users\\Administrator\\AppData\\Local\\Programs\\Python\\Python311\\Lib\\site-packages\\pandas\\core\\frame.py:4166\u001b[0m, in \u001b[0;36mDataFrame._set_item\u001b[1;34m(self, key, value)\u001b[0m\n\u001b[0;32m   4163\u001b[0m         \u001b[39mif\u001b[39;00m \u001b[39misinstance\u001b[39m(existing_piece, DataFrame):\n\u001b[0;32m   4164\u001b[0m             value \u001b[39m=\u001b[39m np\u001b[39m.\u001b[39mtile(value, (\u001b[39mlen\u001b[39m(existing_piece\u001b[39m.\u001b[39mcolumns), \u001b[39m1\u001b[39m))\u001b[39m.\u001b[39mT\n\u001b[1;32m-> 4166\u001b[0m \u001b[39mself\u001b[39;49m\u001b[39m.\u001b[39;49m_set_item_mgr(key, value)\n",
      "File \u001b[1;32mc:\\Users\\Administrator\\AppData\\Local\\Programs\\Python\\Python311\\Lib\\site-packages\\pandas\\core\\frame.py:4123\u001b[0m, in \u001b[0;36mDataFrame._set_item_mgr\u001b[1;34m(self, key, value)\u001b[0m\n\u001b[0;32m   4120\u001b[0m     loc \u001b[39m=\u001b[39m \u001b[39mself\u001b[39m\u001b[39m.\u001b[39m_info_axis\u001b[39m.\u001b[39mget_loc(key)\n\u001b[0;32m   4121\u001b[0m \u001b[39mexcept\u001b[39;00m \u001b[39mKeyError\u001b[39;00m:\n\u001b[0;32m   4122\u001b[0m     \u001b[39m# This item wasn't present, just insert at end\u001b[39;00m\n\u001b[1;32m-> 4123\u001b[0m     \u001b[39mself\u001b[39;49m\u001b[39m.\u001b[39;49m_mgr\u001b[39m.\u001b[39;49minsert(\u001b[39mlen\u001b[39;49m(\u001b[39mself\u001b[39;49m\u001b[39m.\u001b[39;49m_info_axis), key, value)\n\u001b[0;32m   4124\u001b[0m \u001b[39melse\u001b[39;00m:\n\u001b[0;32m   4125\u001b[0m     \u001b[39mself\u001b[39m\u001b[39m.\u001b[39m_iset_item_mgr(loc, value)\n",
      "File \u001b[1;32mc:\\Users\\Administrator\\AppData\\Local\\Programs\\Python\\Python311\\Lib\\site-packages\\pandas\\core\\internals\\managers.py:1403\u001b[0m, in \u001b[0;36mBlockManager.insert\u001b[1;34m(self, loc, item, value)\u001b[0m\n\u001b[0;32m   1401\u001b[0m     value \u001b[39m=\u001b[39m value\u001b[39m.\u001b[39mT\n\u001b[0;32m   1402\u001b[0m     \u001b[39mif\u001b[39;00m \u001b[39mlen\u001b[39m(value) \u001b[39m>\u001b[39m \u001b[39m1\u001b[39m:\n\u001b[1;32m-> 1403\u001b[0m         \u001b[39mraise\u001b[39;00m \u001b[39mValueError\u001b[39;00m(\n\u001b[0;32m   1404\u001b[0m             \u001b[39mf\u001b[39m\u001b[39m\"\u001b[39m\u001b[39mExpected a 1D array, got an array with shape \u001b[39m\u001b[39m{\u001b[39;00mvalue\u001b[39m.\u001b[39mT\u001b[39m.\u001b[39mshape\u001b[39m}\u001b[39;00m\u001b[39m\"\u001b[39m\n\u001b[0;32m   1405\u001b[0m         )\n\u001b[0;32m   1406\u001b[0m \u001b[39melse\u001b[39;00m:\n\u001b[0;32m   1407\u001b[0m     value \u001b[39m=\u001b[39m ensure_block_shape(value, ndim\u001b[39m=\u001b[39m\u001b[39mself\u001b[39m\u001b[39m.\u001b[39mndim)\n",
      "\u001b[1;31mValueError\u001b[0m: Expected a 1D array, got an array with shape (45379, 2)"
     ]
    }
   ],
   "source": [
    "budget=dfMovies[\"budget\"]\n",
    "budget[19730] = 0\n",
    "budget[29503] = 0\n",
    "budget[35587] = 0\n",
    "\n",
    "revenue=pd.DataFrame(dfMovies[\"revenue\"]).astype(float)\n",
    "budget=pd.DataFrame(dfMovies[\"budget\"]).astype(float)\n",
    "\n",
    "\n",
    "dfMovies[\"return\"] = np.where(revenue > 0,revenue/budget, np.nan)\n",
    "dfMovies"
   ]
  }
 ],
 "metadata": {
  "kernelspec": {
   "display_name": "Python 3",
   "language": "python",
   "name": "python3"
  },
  "language_info": {
   "codemirror_mode": {
    "name": "ipython",
    "version": 3
   },
   "file_extension": ".py",
   "mimetype": "text/x-python",
   "name": "python",
   "nbconvert_exporter": "python",
   "pygments_lexer": "ipython3",
   "version": "3.11.3"
  },
  "orig_nbformat": 4
 },
 "nbformat": 4,
 "nbformat_minor": 2
}
