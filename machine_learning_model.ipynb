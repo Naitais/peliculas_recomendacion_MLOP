{
 "cells": [
  {
   "cell_type": "code",
   "execution_count": null,
   "metadata": {},
   "outputs": [],
   "source": [
    "import pandas as pd, numpy as np, matplotlib.pyplot as plt, seaborn as sns\n",
    "\n",
    "from funciones_varias import cargaCsvToDataFrame\n",
    "\n",
    "dfMoviesFinal = cargaCsvToDataFrame(\"dfMoviesFinal\", \"datasets_eda\")"
   ]
  },
  {
   "cell_type": "code",
   "execution_count": null,
   "metadata": {},
   "outputs": [],
   "source": [
    "#considero que para el modelo de clasificacion no necesito estas columnas\n",
    "dfMoviesFinal = dfMoviesFinal.drop(columns=[\"tagline\", \"id\", \"status\"])"
   ]
  },
  {
   "cell_type": "code",
   "execution_count": 29,
   "metadata": {},
   "outputs": [],
   "source": [
    "#dropeo estas rows porque considero que tienen generos de pelicula que no me sirven para el modelo, son datos erroneos\n",
    "\n",
    "dfMoviesFinal.drop(dfMoviesFinal[dfMoviesFinal[\"movie_genre\"]== \"Aniplex\"].index, inplace=True)\n",
    "dfMoviesFinal.drop(dfMoviesFinal[dfMoviesFinal[\"movie_genre\"]== \"Odyssey Media\"].index, inplace=True)\n",
    "dfMoviesFinal.drop(dfMoviesFinal[dfMoviesFinal[\"movie_genre\"]== \"Carousel Productions\"].index, inplace=True)"
   ]
  },
  {
   "cell_type": "code",
   "execution_count": null,
   "metadata": {},
   "outputs": [],
   "source": [
    "df"
   ]
  }
 ],
 "metadata": {
  "kernelspec": {
   "display_name": "Python 3",
   "language": "python",
   "name": "python3"
  },
  "language_info": {
   "codemirror_mode": {
    "name": "ipython",
    "version": 3
   },
   "file_extension": ".py",
   "mimetype": "text/x-python",
   "name": "python",
   "nbconvert_exporter": "python",
   "pygments_lexer": "ipython3",
   "version": "3.11.3"
  },
  "orig_nbformat": 4
 },
 "nbformat": 4,
 "nbformat_minor": 2
}
